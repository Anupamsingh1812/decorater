{
 "cells": [
  {
   "cell_type": "markdown",
   "id": "eb3eaf3c-c3f5-4474-9dbb-31e05cd0ebd1",
   "metadata": {},
   "source": [
    "1. Decorators and closures are related because decorators use closures to modify a function behavior. A closure happens when an inner function remembers its outer function variables, even after the outer function finishes. In decorators, the inner wrapper function captures the original function and its context to modify its behavior.\n",
    "\n",
    "Decorators usually use closures, but they can also be implemented using classes and the __call__ method to modify a function's behavior. This approach is less common."
   ]
  },
  {
   "cell_type": "code",
   "execution_count": 9,
   "id": "bedf4faa-573d-4df0-a42a-43daab94de62",
   "metadata": {},
   "outputs": [
    {
     "name": "stdout",
     "output_type": "stream",
     "text": [
      "Before function call.\n",
      "Anupam!\n",
      "After function call.\n"
     ]
    }
   ],
   "source": [
    "class MyDecorator:\n",
    "    def __init__(self, func):\n",
    "        self.func = func## We store the function to be decorated\n",
    "\n",
    "    def __call__(self):\n",
    "        print(\"Before function call.\")\n",
    "        self.func()  # Call the original function\n",
    "        print(\"After function call.\")\n",
    "\n",
    "def say_hello():\n",
    "    print(\"Anupam!\")\n",
    "\n",
    "decorator = MyDecorator(say_hello)\n",
    "decorator()  # Calling the class instance like a function\n"
   ]
  },
  {
   "cell_type": "markdown",
   "id": "253eed0a-3acf-4678-ab21-5a3c47394357",
   "metadata": {},
   "source": [
    "2. \n",
    "To create a parameterized decorator, define an outer function that accepts arguments. This function returns the actual decorator, which then wraps the target function. The outer function allows customization of the decorator’s behavior based on the provided arguments."
   ]
  },
  {
   "cell_type": "code",
   "execution_count": 46,
   "id": "45b4bb66-cfe7-42e2-ac05-af12cb3e69fe",
   "metadata": {},
   "outputs": [
    {
     "name": "stdout",
     "output_type": "stream",
     "text": [
      "Execution 1:\n",
      "Hello,Anupam!\n",
      "Execution 2:\n",
      "Hello,Anupam!\n",
      "Execution 3:\n",
      "Hello,Anupam!\n",
      "Execution 4:\n",
      "Hello,Anupam!\n",
      "Execution 5:\n",
      "Hello,Anupam!\n"
     ]
    }
   ],
   "source": [
    "def repeat_decorator(times):\n",
    "    def decorator(func):\n",
    "        def wrapper():\n",
    "            for i in range(times):\n",
    "                print(f\"Execution {i + 1}:\")\n",
    "                func()  # Call the function directly without passing any arguments\n",
    "        return wrapper\n",
    "    return decorator\n",
    "\n",
    "@repeat_decorator(5)\n",
    "def say_hello():\n",
    "    print(\"Hello,Anupam!\")\n",
    "\n",
    "# Testing the function\n",
    "say_hello()\n",
    "\n",
    "\n"
   ]
  },
  {
   "cell_type": "code",
   "execution_count": 27,
   "id": "864e6adb-8e7f-48f4-9c94-68ddfe808119",
   "metadata": {},
   "outputs": [
    {
     "name": "stdout",
     "output_type": "stream",
     "text": [
      "Executing say_hello\n",
      "Anupam!\n",
      "Execution of say_hello finished.\n"
     ]
    }
   ],
   "source": [
    "#3.\n",
    "def print_exec(func):\n",
    "    def wrapper():\n",
    "        print(f\"Executing {func.__name__}\")\n",
    "        result = func()\n",
    "        print(f\"Execution of {func.__name__} finished.\")\n",
    "        return result\n",
    "    return wrapper\n",
    "\n",
    "# Example usage\n",
    "@print_exec\n",
    "def say_hello():\n",
    "    print(\"Anupam!\")\n",
    "\n",
    "say_hello()\n",
    "\n"
   ]
  },
  {
   "cell_type": "code",
   "execution_count": 33,
   "id": "99b9cb0b-b292-4817-848f-d08446adff30",
   "metadata": {},
   "outputs": [
    {
     "name": "stdout",
     "output_type": "stream",
     "text": [
      "say_hello has been called 1 times.\n",
      "hello\n",
      "say_hello has been called 2 times.\n",
      "hello\n",
      "say_hello has been called 3 times.\n",
      "hello\n"
     ]
    }
   ],
   "source": [
    "#4..\n",
    "def call_counter(func):\n",
    "    def wrapper():  # No args and kwargs here\n",
    "        wrapper.calls += 1\n",
    "        print(f\"{func.__name__} has been called {wrapper.calls} times.\")\n",
    "        return func()  # Call the function directly\n",
    "    wrapper.calls = 0  # Initialize the call count\n",
    "    return wrapper\n",
    "\n",
    "# Example usage\n",
    "@call_counter\n",
    "def say_hello():\n",
    "    print(\"hello\")\n",
    "\n",
    "# Calling the function multiple times\n",
    "say_hello()\n",
    "say_hello()\n",
    "say_hello()\n",
    "\n"
   ]
  },
  {
   "cell_type": "code",
   "execution_count": 40,
   "id": "c85e57c6-d233-4323-bf86-590b52649740",
   "metadata": {},
   "outputs": [
    {
     "name": "stdout",
     "output_type": "stream",
     "text": [
      "26\n"
     ]
    }
   ],
   "source": [
    "#5..\n",
    "\n",
    "def double_result(func):\n",
    "    def wrapper(a, b):  # Assuming 'add' takes two arguments\n",
    "        result = func(a, b)\n",
    "        return result * 2  # Double the result\n",
    "    return wrapper\n",
    "\n",
    "# Using the double_result decorator with the add function\n",
    "@double_result\n",
    "def add(a, b):\n",
    "    return a + b\n",
    "\n",
    "# Calling the function\n",
    "print(add(7, 6))  # This will print 14, because (3 + 4) * 2 = 14\n"
   ]
  },
  {
   "cell_type": "markdown",
   "id": "64267c0c-0e36-453f-8b45-275020c32b0d",
   "metadata": {},
   "source": [
    "6.\n",
    "When multiple decorators are applied to a single function, they are executed in a bottom-up order, mean the decorator closest to the function is applied first, and the outermost decorator is applied last."
   ]
  },
  {
   "cell_type": "code",
   "execution_count": 38,
   "id": "53b5d86a-daf8-4d51-89e5-fbc7bc5547d4",
   "metadata": {},
   "outputs": [
    {
     "name": "stdout",
     "output_type": "stream",
     "text": [
      "add your sparkles\n",
      "add browny\n",
      "here is your ice cream choclate\n"
     ]
    }
   ],
   "source": [
    "def add_sprinkles(func):\n",
    "    def wrapper(flavour):\n",
    "        print(\"add your sparkles\")\n",
    "        func(flavour)\n",
    "    return wrapper\n",
    "\n",
    "def add_browny(func1):\n",
    "    def wrapper1(flavour):\n",
    "        print(\"add browny\")\n",
    "        func1(flavour)\n",
    "    return wrapper1\n",
    "    \n",
    "\n",
    "@add_sprinkles\n",
    "@add_browny\n",
    "def get_icecream(flavour):\n",
    "        print(f\"here is your ice cream {flavour}\")\n",
    "\n",
    "get_icecream(\"choclate\")"
   ]
  },
  {
   "cell_type": "code",
   "execution_count": null,
   "id": "26d083be-3d30-4d9f-b738-a81c948b5d98",
   "metadata": {},
   "outputs": [],
   "source": [
    "7.\n",
    "Logging: Automatically log function calls and results.\n",
    "Authorization: Check user permissions before executing a function.\n",
    "Memoization: Cache function results to improve performance.\n",
    "Retrying: Retry a function on failure (e.g., network errors).\n",
    "Performance Measurement: Measure execution time of functions.\n",
    "Input or Output Validation: Validate inputs and outputs before or after function execution.\n",
    "Access Control: Manage function access based on user roles or permissions."
   ]
  }
 ],
 "metadata": {
  "kernelspec": {
   "display_name": "Python 3 (ipykernel)",
   "language": "python",
   "name": "python3"
  },
  "language_info": {
   "codemirror_mode": {
    "name": "ipython",
    "version": 3
   },
   "file_extension": ".py",
   "mimetype": "text/x-python",
   "name": "python",
   "nbconvert_exporter": "python",
   "pygments_lexer": "ipython3",
   "version": "3.12.4"
  }
 },
 "nbformat": 4,
 "nbformat_minor": 5
}
